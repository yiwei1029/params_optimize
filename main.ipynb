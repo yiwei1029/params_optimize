{
 "cells": [
  {
   "cell_type": "code",
   "execution_count": 13,
   "id": "initial_id",
   "metadata": {
    "collapsed": true,
    "ExecuteTime": {
     "end_time": "2024-04-04T16:19:49.293622Z",
     "start_time": "2024-04-04T16:19:49.151352900Z"
    }
   },
   "outputs": [
    {
     "name": "stdout",
     "output_type": "stream",
     "text": [
      "The autoreload extension is already loaded. To reload it, use:\n",
      "  %reload_ext autoreload\n"
     ]
    }
   ],
   "source": [
    "from scipy.optimize import minimize\n",
    "from functions import *\n",
    "%load_ext autoreload\n",
    "%autoreload 2"
   ]
  },
  {
   "cell_type": "code",
   "outputs": [],
   "source": [
    "\n",
    "def to_opt_func():\n",
    "    return 0\n",
    "if __name__ == '__main__':\n",
    "    pass"
   ],
   "metadata": {
    "collapsed": false,
    "ExecuteTime": {
     "end_time": "2024-04-04T16:19:49.420653500Z",
     "start_time": "2024-04-04T16:19:49.292623600Z"
    }
   },
   "id": "9bfbcfdf35f6425",
   "execution_count": 14
  },
  {
   "cell_type": "code",
   "outputs": [
    {
     "data": {
      "text/plain": "[3, 7]"
     },
     "execution_count": 15,
     "metadata": {},
     "output_type": "execute_result"
    }
   ],
   "source": [
    "# def fun(args):\n",
    "#     a,b,c,d=args\n",
    "#     v=lambda x: (a+x[0])/(b+x[1]) -c*x[0]+d*x[2]\n",
    "#     return v\n",
    "# fun([1,2,3,4])([1,2,3,4])\n",
    "overlay_funcs([1,2,3,4])(1)"
   ],
   "metadata": {
    "collapsed": false,
    "ExecuteTime": {
     "end_time": "2024-04-04T16:19:49.552058900Z",
     "start_time": "2024-04-04T16:19:49.422650300Z"
    }
   },
   "id": "a1a4e851703498c9",
   "execution_count": 15
  }
 ],
 "metadata": {
  "kernelspec": {
   "display_name": "Python 3",
   "language": "python",
   "name": "python3"
  },
  "language_info": {
   "codemirror_mode": {
    "name": "ipython",
    "version": 2
   },
   "file_extension": ".py",
   "mimetype": "text/x-python",
   "name": "python",
   "nbconvert_exporter": "python",
   "pygments_lexer": "ipython2",
   "version": "2.7.6"
  }
 },
 "nbformat": 4,
 "nbformat_minor": 5
}
