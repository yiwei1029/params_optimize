{
 "cells": [
  {
   "cell_type": "code",
   "execution_count": 52,
   "id": "initial_id",
   "metadata": {
    "collapsed": true,
    "ExecuteTime": {
     "end_time": "2024-04-04T16:40:37.835245500Z",
     "start_time": "2024-04-04T16:40:37.649230600Z"
    }
   },
   "outputs": [
    {
     "name": "stdout",
     "output_type": "stream",
     "text": [
      "The autoreload extension is already loaded. To reload it, use:\n",
      "  %reload_ext autoreload\n"
     ]
    }
   ],
   "source": [
    "import numpy as np\n",
    "from scipy.optimize import minimize\n",
    "from functions import *\n",
    "%load_ext autoreload\n",
    "%autoreload 2"
   ]
  },
  {
   "cell_type": "code",
   "outputs": [],
   "source": [
    "\n",
    "def to_opt_func():\n",
    "    return 0\n",
    "if __name__ == '__main__':\n",
    "    pass"
   ],
   "metadata": {
    "collapsed": false,
    "ExecuteTime": {
     "end_time": "2024-04-04T16:40:38.022181500Z",
     "start_time": "2024-04-04T16:40:37.837237900Z"
    }
   },
   "id": "9bfbcfdf35f6425",
   "execution_count": 53
  },
  {
   "cell_type": "code",
   "outputs": [
    {
     "data": {
      "text/plain": "0"
     },
     "execution_count": 55,
     "metadata": {},
     "output_type": "execute_result"
    }
   ],
   "source": [
    "# def fun(args):\n",
    "#     a,b,c,d=args\n",
    "#     v=lambda x: (a+x[0])/(b+x[1]) -c*x[0]+d*x[2]\n",
    "#     return v\n",
    "# fun([1,2,3,4])([1,2,3,4])\n",
    "# overlay_funcs([1,2,3,4])(1)\n",
    "loss_func([1,2],[1,1],[5,5])"
   ],
   "metadata": {
    "collapsed": false,
    "ExecuteTime": {
     "end_time": "2024-04-04T16:43:27.689788600Z",
     "start_time": "2024-04-04T16:43:27.495580600Z"
    }
   },
   "id": "a1a4e851703498c9",
   "execution_count": 55
  },
  {
   "cell_type": "code",
   "outputs": [],
   "source": [
    "if __name__ == '__main__':\n",
    "    pass"
   ],
   "metadata": {
    "collapsed": false,
    "ExecuteTime": {
     "end_time": "2024-04-04T17:16:18.531690400Z",
     "start_time": "2024-04-04T17:16:18.083607200Z"
    }
   },
   "id": "9d9003414fb0010e",
   "execution_count": 56
  }
 ],
 "metadata": {
  "kernelspec": {
   "display_name": "Python 3",
   "language": "python",
   "name": "python3"
  },
  "language_info": {
   "codemirror_mode": {
    "name": "ipython",
    "version": 2
   },
   "file_extension": ".py",
   "mimetype": "text/x-python",
   "name": "python",
   "nbconvert_exporter": "python",
   "pygments_lexer": "ipython2",
   "version": "2.7.6"
  }
 },
 "nbformat": 4,
 "nbformat_minor": 5
}
